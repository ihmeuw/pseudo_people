{
 "cells": [
  {
   "cell_type": "code",
   "execution_count": 1,
   "metadata": {},
   "outputs": [
    {
     "ename": "ImportError",
     "evalue": "cannot import name 'random' from 'vivarium.framework.randomness' (/ihme/homes/sbachmei/miniconda3/envs/pseudopeople/lib/python3.11/site-packages/vivarium/framework/randomness/__init__.py)",
     "output_type": "error",
     "traceback": [
      "\u001b[0;31m---------------------------------------------------------------------------\u001b[0m",
      "\u001b[0;31mImportError\u001b[0m                               Traceback (most recent call last)",
      "Cell \u001b[0;32mIn[1], line 1\u001b[0m\n\u001b[0;32m----> 1\u001b[0m \u001b[39mimport\u001b[39;00m \u001b[39mpseudopeople\u001b[39;00m \u001b[39mas\u001b[39;00m \u001b[39mpsp\u001b[39;00m\n",
      "File \u001b[0;32m/mnt/share/homes/sbachmei/repos/pseudopeople/src/pseudopeople/__init__.py:11\u001b[0m\n\u001b[1;32m      1\u001b[0m \u001b[39mfrom\u001b[39;00m \u001b[39mpseudopeople\u001b[39;00m\u001b[39m.\u001b[39;00m\u001b[39m__about__\u001b[39;00m \u001b[39mimport\u001b[39;00m (\n\u001b[1;32m      2\u001b[0m     __author__,\n\u001b[1;32m      3\u001b[0m     __copyright__,\n\u001b[0;32m   (...)\u001b[0m\n\u001b[1;32m      9\u001b[0m     __version__,\n\u001b[1;32m     10\u001b[0m )\n\u001b[0;32m---> 11\u001b[0m \u001b[39mfrom\u001b[39;00m \u001b[39mpseudopeople\u001b[39;00m\u001b[39m.\u001b[39;00m\u001b[39mconfiguration\u001b[39;00m\u001b[39m.\u001b[39;00m\u001b[39minterface\u001b[39;00m \u001b[39mimport\u001b[39;00m get_config\n\u001b[1;32m     12\u001b[0m \u001b[39mfrom\u001b[39;00m \u001b[39mpseudopeople\u001b[39;00m\u001b[39m.\u001b[39;00m\u001b[39minterface\u001b[39;00m \u001b[39mimport\u001b[39;00m (\n\u001b[1;32m     13\u001b[0m     generate_american_community_survey,\n\u001b[1;32m     14\u001b[0m     generate_current_population_survey,\n\u001b[0;32m   (...)\u001b[0m\n\u001b[1;32m     18\u001b[0m     generate_women_infants_and_children,\n\u001b[1;32m     19\u001b[0m )\n",
      "File \u001b[0;32m/mnt/share/homes/sbachmei/repos/pseudopeople/src/pseudopeople/configuration/__init__.py:2\u001b[0m\n\u001b[1;32m      1\u001b[0m \u001b[39mfrom\u001b[39;00m \u001b[39mpseudopeople\u001b[39;00m\u001b[39m.\u001b[39;00m\u001b[39mconfiguration\u001b[39;00m\u001b[39m.\u001b[39;00m\u001b[39mentities\u001b[39;00m \u001b[39mimport\u001b[39;00m Keys\n\u001b[0;32m----> 2\u001b[0m \u001b[39mfrom\u001b[39;00m \u001b[39mpseudopeople\u001b[39;00m\u001b[39m.\u001b[39;00m\u001b[39mconfiguration\u001b[39;00m\u001b[39m.\u001b[39;00m\u001b[39mgenerator\u001b[39;00m \u001b[39mimport\u001b[39;00m get_configuration\n",
      "File \u001b[0;32m/mnt/share/homes/sbachmei/repos/pseudopeople/src/pseudopeople/configuration/generator.py:9\u001b[0m\n\u001b[1;32m      7\u001b[0m \u001b[39mfrom\u001b[39;00m \u001b[39mpseudopeople\u001b[39;00m\u001b[39m.\u001b[39;00m\u001b[39mconfiguration\u001b[39;00m \u001b[39mimport\u001b[39;00m Keys\n\u001b[1;32m      8\u001b[0m \u001b[39mfrom\u001b[39;00m \u001b[39mpseudopeople\u001b[39;00m\u001b[39m.\u001b[39;00m\u001b[39mconfiguration\u001b[39;00m\u001b[39m.\u001b[39;00m\u001b[39mvalidator\u001b[39;00m \u001b[39mimport\u001b[39;00m validate_user_configuration\n\u001b[0;32m----> 9\u001b[0m \u001b[39mfrom\u001b[39;00m \u001b[39mpseudopeople\u001b[39;00m\u001b[39m.\u001b[39;00m\u001b[39mnoise_entities\u001b[39;00m \u001b[39mimport\u001b[39;00m NOISE_TYPES\n\u001b[1;32m     10\u001b[0m \u001b[39mfrom\u001b[39;00m \u001b[39mpseudopeople\u001b[39;00m\u001b[39m.\u001b[39;00m\u001b[39mschema_entities\u001b[39;00m \u001b[39mimport\u001b[39;00m COLUMNS, DATASETS\n\u001b[1;32m     12\u001b[0m \u001b[39m# Define non-baseline default items\u001b[39;00m\n\u001b[1;32m     13\u001b[0m \u001b[39m# NOTE: default values are defined in entity_types.RowNoiseType and entity_types.ColumnNoiseType\u001b[39;00m\n",
      "File \u001b[0;32m/mnt/share/homes/sbachmei/repos/pseudopeople/src/pseudopeople/noise_entities.py:3\u001b[0m\n\u001b[1;32m      1\u001b[0m \u001b[39mfrom\u001b[39;00m \u001b[39mtyping\u001b[39;00m \u001b[39mimport\u001b[39;00m NamedTuple\n\u001b[0;32m----> 3\u001b[0m \u001b[39mfrom\u001b[39;00m \u001b[39mpseudopeople\u001b[39;00m \u001b[39mimport\u001b[39;00m noise_functions, utilities\n\u001b[1;32m      4\u001b[0m \u001b[39mfrom\u001b[39;00m \u001b[39mpseudopeople\u001b[39;00m\u001b[39m.\u001b[39;00m\u001b[39mconfiguration\u001b[39;00m \u001b[39mimport\u001b[39;00m Keys\n\u001b[1;32m      5\u001b[0m \u001b[39mfrom\u001b[39;00m \u001b[39mpseudopeople\u001b[39;00m\u001b[39m.\u001b[39;00m\u001b[39mentity_types\u001b[39;00m \u001b[39mimport\u001b[39;00m ColumnNoiseType, RowNoiseType\n",
      "File \u001b[0;32m/mnt/share/homes/sbachmei/repos/pseudopeople/src/pseudopeople/noise_functions.py:13\u001b[0m\n\u001b[1;32m     11\u001b[0m \u001b[39mfrom\u001b[39;00m \u001b[39mpseudopeople\u001b[39;00m\u001b[39m.\u001b[39;00m\u001b[39mconstants\u001b[39;00m\u001b[39m.\u001b[39;00m\u001b[39mmetadata\u001b[39;00m \u001b[39mimport\u001b[39;00m DatasetNames\n\u001b[1;32m     12\u001b[0m \u001b[39mfrom\u001b[39;00m \u001b[39mpseudopeople\u001b[39;00m\u001b[39m.\u001b[39;00m\u001b[39mdata\u001b[39;00m\u001b[39m.\u001b[39;00m\u001b[39mfake_names\u001b[39;00m \u001b[39mimport\u001b[39;00m fake_first_names, fake_last_names\n\u001b[0;32m---> 13\u001b[0m \u001b[39mfrom\u001b[39;00m \u001b[39mpseudopeople\u001b[39;00m\u001b[39m.\u001b[39;00m\u001b[39mutilities\u001b[39;00m \u001b[39mimport\u001b[39;00m get_index_to_noise, vectorized_choice\n\u001b[1;32m     16\u001b[0m \u001b[39mdef\u001b[39;00m \u001b[39momit_rows\u001b[39m(\n\u001b[1;32m     17\u001b[0m     dataset_name: \u001b[39mstr\u001b[39m,\n\u001b[1;32m     18\u001b[0m     dataset_data: pd\u001b[39m.\u001b[39mDataFrame,\n\u001b[1;32m     19\u001b[0m     configuration: ConfigTree,\n\u001b[1;32m     20\u001b[0m     randomness_stream: RandomnessStream,\n\u001b[1;32m     21\u001b[0m ) \u001b[39m-\u001b[39m\u001b[39m>\u001b[39m pd\u001b[39m.\u001b[39mDataFrame:\n\u001b[1;32m     22\u001b[0m \u001b[39m    \u001b[39m\u001b[39m\"\"\"\u001b[39;00m\n\u001b[1;32m     23\u001b[0m \u001b[39m    Function that omits rows from a dataset and returns only the remaining rows.  Note that for the ACS and CPS datasets\u001b[39;00m\n\u001b[1;32m     24\u001b[0m \u001b[39m      we need to account for oversampling in the PRL simulation so a helper function has been hadded here to do so.\u001b[39;00m\n\u001b[0;32m   (...)\u001b[0m\n\u001b[1;32m     29\u001b[0m \u001b[39m    :return: pd.DataFrame with rows from the original dataframe removed\u001b[39;00m\n\u001b[1;32m     30\u001b[0m \u001b[39m    \"\"\"\u001b[39;00m\n",
      "File \u001b[0;32m/mnt/share/homes/sbachmei/repos/pseudopeople/src/pseudopeople/utilities.py:7\u001b[0m\n\u001b[1;32m      5\u001b[0m \u001b[39mimport\u001b[39;00m \u001b[39mpandas\u001b[39;00m \u001b[39mas\u001b[39;00m \u001b[39mpd\u001b[39;00m\n\u001b[1;32m      6\u001b[0m \u001b[39mfrom\u001b[39;00m \u001b[39mloguru\u001b[39;00m \u001b[39mimport\u001b[39;00m logger\n\u001b[0;32m----> 7\u001b[0m \u001b[39mfrom\u001b[39;00m \u001b[39mvivarium\u001b[39;00m\u001b[39m.\u001b[39;00m\u001b[39mframework\u001b[39;00m\u001b[39m.\u001b[39;00m\u001b[39mrandomness\u001b[39;00m \u001b[39mimport\u001b[39;00m RandomnessStream, random\n\u001b[1;32m      9\u001b[0m \u001b[39mfrom\u001b[39;00m \u001b[39mpseudopeople\u001b[39;00m\u001b[39m.\u001b[39;00m\u001b[39mconstants\u001b[39;00m \u001b[39mimport\u001b[39;00m paths\n\u001b[1;32m     12\u001b[0m \u001b[39mdef\u001b[39;00m \u001b[39mget_randomness_stream\u001b[39m(dataset_name: \u001b[39mstr\u001b[39m, seed: \u001b[39mint\u001b[39m) \u001b[39m-\u001b[39m\u001b[39m>\u001b[39m RandomnessStream:\n",
      "\u001b[0;31mImportError\u001b[0m: cannot import name 'random' from 'vivarium.framework.randomness' (/ihme/homes/sbachmei/miniconda3/envs/pseudopeople/lib/python3.11/site-packages/vivarium/framework/randomness/__init__.py)"
     ]
    }
   ],
   "source": [
    "import pseudopeople as psp"
   ]
  },
  {
   "cell_type": "code",
   "execution_count": null,
   "metadata": {},
   "outputs": [],
   "source": []
  }
 ],
 "metadata": {
  "kernelspec": {
   "display_name": "prl",
   "language": "python",
   "name": "python3"
  },
  "language_info": {
   "codemirror_mode": {
    "name": "ipython",
    "version": 3
   },
   "file_extension": ".py",
   "mimetype": "text/x-python",
   "name": "python",
   "nbconvert_exporter": "python",
   "pygments_lexer": "ipython3",
   "version": "3.11.4"
  },
  "orig_nbformat": 4
 },
 "nbformat": 4,
 "nbformat_minor": 2
}
